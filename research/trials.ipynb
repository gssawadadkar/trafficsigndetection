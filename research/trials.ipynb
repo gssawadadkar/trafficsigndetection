{
 "cells": [
  {
   "cell_type": "code",
   "execution_count": 1,
   "id": "eb37dc2c-a6f1-4b87-ad98-9df2f8220d6e",
   "metadata": {},
   "outputs": [],
   "source": [
    "import gdown"
   ]
  },
  {
   "cell_type": "code",
   "execution_count": 4,
   "id": "b3d87adf-cfa8-42fe-a342-c633a5d462a5",
   "metadata": {},
   "outputs": [
    {
     "data": {
      "text/plain": [
       "'1AtkDACgdxD-7cISTAfiRA-4nIJ-q1F8T'"
      ]
     },
     "execution_count": 4,
     "metadata": {},
     "output_type": "execute_result"
    }
   ],
   "source": [
    "url=\"https://drive.google.com/file/d/1AtkDACgdxD-7cISTAfiRA-4nIJ-q1F8T/view?usp=drive_link\"\n",
    "file_id=url.split(\"/\")\n",
    "file_id=file_id[-2]\n",
    "file_id"
   ]
  },
  {
   "cell_type": "code",
   "execution_count": 9,
   "id": "67948c8c-05a2-4412-8f1d-3398a6433eba",
   "metadata": {},
   "outputs": [
    {
     "name": "stderr",
     "output_type": "stream",
     "text": [
      "Downloading...\n",
      "From (uriginal): https://drive.google.com/uc?/export=download&id=1AtkDACgdxD-7cISTAfiRA-4nIJ-q1F8T\n",
      "From (redirected): https://drive.google.com/uc?/export=download&id=1AtkDACgdxD-7cISTAfiRA-4nIJ-q1F8T&confirm=t&uuid=b84ea572-0836-48e8-a4bf-5a176186564e\n",
      "To: C:\\Users\\gssaw\\trafficsigndetection\\trafficsigndetection\\data\\traffic_data.zip\n",
      "100%|█████████████████████████████████████████████████████████████████████████████| 41.6M/41.6M [00:07<00:00, 5.76MB/s]\n"
     ]
    },
    {
     "data": {
      "text/plain": [
       "'data/traffic_data.zip'"
      ]
     },
     "execution_count": 9,
     "metadata": {},
     "output_type": "execute_result"
    }
   ],
   "source": [
    "prefix=\"https://drive.google.com/uc?/export=download&id=\"\n",
    "gdown.download(prefix+file_id,\"data/traffic_data.zip\")"
   ]
  },
  {
   "cell_type": "code",
   "execution_count": 7,
   "id": "ea2241a6-6a53-41df-beac-fd0c7efd684a",
   "metadata": {},
   "outputs": [
    {
     "data": {
      "text/plain": [
       "'C:\\\\Users\\\\gssaw\\\\trafficsigndetection\\\\trafficsigndetection\\\\research'"
      ]
     },
     "execution_count": 7,
     "metadata": {},
     "output_type": "execute_result"
    }
   ],
   "source": [
    "pwd"
   ]
  },
  {
   "cell_type": "code",
   "execution_count": 8,
   "id": "0dc7c8ac-909a-4174-a4aa-89031ed68cb8",
   "metadata": {},
   "outputs": [
    {
     "name": "stdout",
     "output_type": "stream",
     "text": [
      "C:\\Users\\gssaw\\trafficsigndetection\\trafficsigndetection\n"
     ]
    }
   ],
   "source": [
    "%cd ../"
   ]
  },
  {
   "cell_type": "code",
   "execution_count": null,
   "id": "c3f8ab14-f86e-4e6b-8d36-40b78d8cb255",
   "metadata": {},
   "outputs": [],
   "source": []
  }
 ],
 "metadata": {
  "kernelspec": {
   "display_name": "Python 3 (ipykernel)",
   "language": "python",
   "name": "python3"
  },
  "language_info": {
   "codemirror_mode": {
    "name": "ipython",
    "version": 3
   },
   "file_extension": ".py",
   "mimetype": "text/x-python",
   "name": "python",
   "nbconvert_exporter": "python",
   "pygments_lexer": "ipython3",
   "version": "3.9.12"
  }
 },
 "nbformat": 4,
 "nbformat_minor": 5
}
